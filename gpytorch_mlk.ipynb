{
 "cells": [
  {
   "cell_type": "code",
   "execution_count": 36,
   "id": "f3535973",
   "metadata": {},
   "outputs": [],
   "source": [
    "from data import load, split, ScaleAbsOne\n",
    "from gpytorch.constraints import Positive\n",
    "import torch\n",
    "import math\n",
    "import gpytorch\n",
    "from matplotlib import pyplot as plt\n",
    "from tqdm.notebook import tqdm"
   ]
  },
  {
   "cell_type": "code",
   "execution_count": 44,
   "id": "f5e03b56",
   "metadata": {},
   "outputs": [
    {
     "name": "stderr",
     "output_type": "stream",
     "text": [
      "100%|██████████████████████████████████████████████████████████████████████████████████████████████████████████████████████████████████████████████████████████████████████| 10/10 [00:05<00:00,  1.71it/s]\n",
      "100%|██████████████████████████████████████████████████████████████████████████████████████████████████████████████████████████████████████████████████████████████████████| 10/10 [00:06<00:00,  1.63it/s]\n"
     ]
    }
   ],
   "source": [
    "df = load()\n",
    "train_set, dev_set, test_set = split(df, \"new_dose-response_matrices\", inner_fold=1, outer_fold=1)"
   ]
  },
  {
   "cell_type": "code",
   "execution_count": 45,
   "id": "f2cd648c",
   "metadata": {},
   "outputs": [],
   "source": [
    "train_target = train_set.pop(\"PercentageGrowth\")\n",
    "dev_target = dev_set.pop(\"PercentageGrowth\")\n",
    "test_target = test_set.pop(\"PercentageGrowth\")\n",
    "scaler = ScaleAbsOne()\n",
    "train_set = scaler.fit_transform(train_set.values)\n",
    "dev_set = scaler.transform(dev_set.values)\n",
    "test_set = scaler.transform(test_set.values)"
   ]
  },
  {
   "cell_type": "code",
   "execution_count": 56,
   "id": "0f337336",
   "metadata": {},
   "outputs": [],
   "source": [
    "sub = torch.tensor(train_set[:150]).float()\n",
    "subt = torch.tensor(train_target[:150].values).float()"
   ]
  },
  {
   "cell_type": "code",
   "execution_count": 57,
   "id": "28dc5e8e",
   "metadata": {},
   "outputs": [],
   "source": [
    "# sub = torch.randn(150, 400)\n",
    "# subt = torch.randn()"
   ]
  },
  {
   "cell_type": "code",
   "execution_count": 58,
   "id": "69dcc0be",
   "metadata": {},
   "outputs": [],
   "source": [
    "def train(model, likelihood, training_iter, x, y):\n",
    "    optimizer = torch.optim.Adam(model.parameters(), lr=0.1)\n",
    "    mll = gpytorch.mlls.ExactMarginalLogLikelihood(likelihood, model)\n",
    "\n",
    "    pbar = tqdm(range(training_iter)) \n",
    "    for i in pbar:\n",
    "        optimizer.zero_grad()\n",
    "        output = model(x)\n",
    "        loss = -mll(output, y)\n",
    "        pbar.set_description(f'{loss.item():.2e}')\n",
    "        loss.backward()\n",
    "        optimizer.step()"
   ]
  },
  {
   "cell_type": "code",
   "execution_count": 59,
   "id": "5ed4af05",
   "metadata": {},
   "outputs": [],
   "source": [
    "class MultiLinearKernel(gpytorch.kernels.Kernel):\n",
    "    is_stationary = False\n",
    "    def __init__(self, length_prior=None, length_constraint=None, **kwargs):\n",
    "        super().__init__(**kwargs)\n",
    "        \n",
    "        self.register_parameter(\n",
    "            name='raw_length', \n",
    "            parameter=torch.nn.Parameter(torch.ones(*self.batch_shape, 1, 1, 400) * 100)\n",
    "        )\n",
    "        if length_constraint is None:\n",
    "            length_constraint = Positive()\n",
    "        self.register_constraint(\"raw_length\", length_constraint)\n",
    "\n",
    "        if length_prior is not None:\n",
    "            self.register_prior(\n",
    "                \"length_prior\",\n",
    "                length_prior,\n",
    "                lambda m: m.length,\n",
    "                lambda m, v : m._set_length(v),\n",
    "            )\n",
    "\n",
    "    @property\n",
    "    def length(self):\n",
    "        return self.raw_length_constraint.transform(self.raw_length)\n",
    "\n",
    "    @length.setter\n",
    "    def length(self, value):\n",
    "        return self._set_length(value)\n",
    "\n",
    "    def _set_length(self, value):\n",
    "        if not torch.is_tensor(value):\n",
    "            value = torch.as_tensor(value).to(self.raw_length)\n",
    "        self.initialize(raw_length=self.raw_length_constraint.inverse_transform(value))\n",
    "\n",
    "    def forward(self, x1, x2, **params):\n",
    "        # This is expensive, but I'm not sure how to improve it\n",
    "        # For the Gram at least it's a symmetric tensor\n",
    "        # We could do it iteratively and at least save some RAM\n",
    "        prod = torch.einsum(\"nd, md -> nmd\", x1, x2)\n",
    "        frac = (self.length**2 + prod) / (1 + self.length**2)\n",
    "        return frac.prod(-1)\n",
    "    \n",
    "    \n",
    "class MultiLinearGPModel(gpytorch.models.ExactGP):\n",
    "    def __init__(self, train_x, train_y, likelihood):\n",
    "        super().__init__(train_x, train_y, likelihood)\n",
    "        self.mean_module = gpytorch.means.ConstantMean()\n",
    "        self.covar_module = MultiLinearKernel()\n",
    "\n",
    "    def forward(self, x):\n",
    "        mean_x = self.mean_module(x)\n",
    "        covar_x = self.covar_module(x)\n",
    "        return gpytorch.distributions.MultivariateNormal(mean_x, covar_x)"
   ]
  },
  {
   "cell_type": "code",
   "execution_count": 60,
   "id": "827ee70c",
   "metadata": {
    "scrolled": false
   },
   "outputs": [
    {
     "data": {
      "application/vnd.jupyter.widget-view+json": {
       "model_id": "ba49f0ff64e04cc5953ced0d380ef957",
       "version_major": 2,
       "version_minor": 0
      },
      "text/plain": [
       "  0%|          | 0/1000 [00:00<?, ?it/s]"
      ]
     },
     "metadata": {},
     "output_type": "display_data"
    },
    {
     "data": {
      "text/plain": [
       "GaussianLikelihood(\n",
       "  (noise_covar): HomoskedasticNoise(\n",
       "    (raw_noise_constraint): GreaterThan(1.000E-04)\n",
       "  )\n",
       ")"
      ]
     },
     "execution_count": 60,
     "metadata": {},
     "output_type": "execute_result"
    }
   ],
   "source": [
    "likelihood = gpytorch.likelihoods.GaussianLikelihood()\n",
    "model = MultiLinearGPModel(sub, subt, likelihood)\n",
    "\n",
    "model.train()\n",
    "likelihood.train()\n",
    "train(model, likelihood, 1000, sub, subt)\n",
    "\n",
    "model.eval()\n",
    "likelihood.eval()"
   ]
  },
  {
   "cell_type": "code",
   "execution_count": 63,
   "id": "530a5aaf",
   "metadata": {},
   "outputs": [
    {
     "data": {
      "text/plain": [
       "<matplotlib.collections.PathCollection at 0x7f5b0c194640>"
      ]
     },
     "execution_count": 63,
     "metadata": {},
     "output_type": "execute_result"
    },
    {
     "data": {
      "image/png": "[encoded data removed]",
      "text/plain": [
       "<Figure size 432x288 with 1 Axes>"
      ]
     },
     "metadata": {
      "needs_background": "light"
     },
     "output_type": "display_data"
    }
   ],
   "source": [
    "plt.scatter(range(sub.shape[-1]), model.covar_module.length.detach().cpu().numpy())"
   ]
  }
 ],
 "metadata": {
  "kernelspec": {
   "display_name": "Python 3 (ipykernel)",
   "language": "python",
   "name": "python3"
  },
  "language_info": {
   "codemirror_mode": {
    "name": "ipython",
    "version": 3
   },
   "file_extension": ".py",
   "mimetype": "text/x-python",
   "name": "python",
   "nbconvert_exporter": "python",
   "pygments_lexer": "ipython3",
   "version": "3.9.5"
  }
 },
 "nbformat": 4,
 "nbformat_minor": 5
}
